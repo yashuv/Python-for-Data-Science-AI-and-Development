{
  "metadata": {
    "kernelspec": {
      "name": "python",
      "display_name": "Pyolite",
      "language": "python"
    },
    "language_info": {
      "codemirror_mode": {
        "name": "python",
        "version": 3
      },
      "file_extension": ".py",
      "mimetype": "text/x-python",
      "name": "python",
      "nbconvert_exporter": "python",
      "pygments_lexer": "ipython3",
      "version": "3.8"
    }
  },
  "nbformat_minor": 4,
  "nbformat": 4,
  "cells": [
    {
      "cell_type": "markdown",
      "source": "<center>\n    <img src=\"https://cf-courses-data.s3.us.cloud-object-storage.appdomain.cloud/IBMDeveloperSkillsNetwork-PY0101EN-SkillsNetwork/IDSNlogo.png\" width=\"300\" alt=\"cognitiveclass.ai logo\"  />\n</center>\n",
      "metadata": {}
    },
    {
      "cell_type": "markdown",
      "source": "# **Exception Handling**\n\nEstimated time needed: **15** minutes\n\n## Objectives\n\nAfter completing this lab you will be able to:\n\n*   Understand exceptions\n*   Handle the exceptions\n",
      "metadata": {}
    },
    {
      "cell_type": "markdown",
      "source": "## Table of Contents\n",
      "metadata": {}
    },
    {
      "cell_type": "markdown",
      "source": "*   What is an Exception?\n*   Exception Handling\n",
      "metadata": {}
    },
    {
      "cell_type": "markdown",
      "source": "***\n",
      "metadata": {}
    },
    {
      "cell_type": "markdown",
      "source": "## What is an Exception?\n",
      "metadata": {}
    },
    {
      "cell_type": "markdown",
      "source": "In this section you will learn about what an exception is and see examples of them.\n",
      "metadata": {}
    },
    {
      "cell_type": "markdown",
      "source": "### Definition\n",
      "metadata": {}
    },
    {
      "cell_type": "markdown",
      "source": "An exception is an error that occurs during the execution of code. This error causes the code to raise an exception and if not prepared to handle it will halt the execution of the code.\n",
      "metadata": {}
    },
    {
      "cell_type": "markdown",
      "source": "### Examples\n",
      "metadata": {}
    },
    {
      "cell_type": "markdown",
      "source": "Run each piece of code and observe the exception raised\n",
      "metadata": {}
    },
    {
      "cell_type": "code",
      "source": "1/0",
      "metadata": {},
      "execution_count": null,
      "outputs": []
    },
    {
      "cell_type": "markdown",
      "source": "<code>ZeroDivisionError</code> occurs when you try to divide by zero.\n",
      "metadata": {}
    },
    {
      "cell_type": "code",
      "source": "y = a + 5",
      "metadata": {},
      "execution_count": null,
      "outputs": []
    },
    {
      "cell_type": "markdown",
      "source": "<code>NameError</code> -- in this case, it means that you tried to use the variable a when it was not defined.\n",
      "metadata": {}
    },
    {
      "cell_type": "code",
      "source": "a = [1, 2, 3]\na[10]",
      "metadata": {},
      "execution_count": null,
      "outputs": []
    },
    {
      "cell_type": "markdown",
      "source": "<code>IndexError</code> -- in this case, it occured because you tried to access data from a list using an index that does not exist for this list.\n",
      "metadata": {}
    },
    {
      "cell_type": "markdown",
      "source": "There are many more exceptions that are built into Python, here is a list of them [https://docs.python.org/3/library/exceptions.html](https://docs.python.org/3/library/exceptions.html?utm_medium=Exinfluencer&utm_source=Exinfluencer&utm_content=000026UJ&utm_term=10006555&utm_id=NA-SkillsNetwork-Channel-SkillsNetworkCoursesIBMDeveloperSkillsNetworkPY0101ENSkillsNetwork19487395-2021-01-01)\n",
      "metadata": {}
    },
    {
      "cell_type": "markdown",
      "source": "## Exception Handling\n",
      "metadata": {}
    },
    {
      "cell_type": "markdown",
      "source": "In this section you will learn how to handle exceptions. You will understand how to make your program perform specified tasks instead of halting code execution when an exception is encountered.\n",
      "metadata": {}
    },
    {
      "cell_type": "markdown",
      "source": "### Try Except\n",
      "metadata": {}
    },
    {
      "cell_type": "markdown",
      "source": "A <code>try except</code> will allow you to execute code that might raise an exception and in the case of any exception or a specific one we can handle or catch the exception and execute specific code. This will allow us to continue the execution of our program even if there is an exception.\n\nPython tries to execute the code in the <code>try</code> block. In this case if there is any exception raised by the code in the <code>try</code> block, it will be caught and the code block in the <code>except</code> block will be executed. After that, the code that comes <em>after</em> the try except will be executed.\n",
      "metadata": {}
    },
    {
      "cell_type": "code",
      "source": "# potential code before try catch\n\ntry:\n    # code to try to execute\nexcept:\n    # code to execute if there is an exception\n    \n# code that will still execute if there is an exception",
      "metadata": {},
      "execution_count": null,
      "outputs": []
    },
    {
      "cell_type": "markdown",
      "source": "### Try Except Example\n",
      "metadata": {}
    },
    {
      "cell_type": "markdown",
      "source": "In this example we are trying to divide a number given by the user, save the outcome in the variable <code>a</code>, and then we would like to print the result of the operation. When taking user input and dividing a number by it there are a couple of exceptions that can be raised. For example if we divide by zero. Try running the following block of code with <code>b</code> as a number. An exception will only be raised if <code>b</code> is zero.\n",
      "metadata": {}
    },
    {
      "cell_type": "code",
      "source": "a = 1\n\ntry:\n    b = int(input(\"Please enter a number to divide a\"))\n    a = a/b\n    print(\"Success a=\",a)\nexcept:\n    print(\"There was an error\")\n        \n",
      "metadata": {},
      "execution_count": null,
      "outputs": []
    },
    {
      "cell_type": "markdown",
      "source": "### Try Except Specific\n",
      "metadata": {}
    },
    {
      "cell_type": "markdown",
      "source": "A specific <code>try except</code> allows you to catch certain exceptions and also execute certain code depending on the exception. This is useful if you do not want to deal with some exceptions and the execution should halt. It can also help you find errors in your code that you might not be aware of. Furthermore, it can help you differentiate responses to different exceptions. In this case, the code after the try except might not run depending on the error.\n",
      "metadata": {}
    },
    {
      "cell_type": "markdown",
      "source": "<b>Do not run, just to illustrate:</b>\n",
      "metadata": {}
    },
    {
      "cell_type": "code",
      "source": "# potential code before try catch\n\ntry:\n    # code to try to execute\nexcept (ZeroDivisionError, NameError):\n    # code to execute if there is an exception of the given types\n    \n# code that will execute if there is no exception or a one that we are handling",
      "metadata": {},
      "execution_count": null,
      "outputs": []
    },
    {
      "cell_type": "code",
      "source": "# potential code before try catch\n\ntry:\n    # code to try to execute\nexcept ZeroDivisionError:\n    # code to execute if there is a ZeroDivisionError\nexcept NameError:\n    # code to execute if there is a NameError\n    \n# code that will execute if there is no exception or a one that we are handling",
      "metadata": {},
      "execution_count": null,
      "outputs": []
    },
    {
      "cell_type": "markdown",
      "source": "You can also have an empty <code>except</code> at the end to catch an unexpected exception:\n",
      "metadata": {}
    },
    {
      "cell_type": "markdown",
      "source": "<b>Do not run, just to illustrate:</b>\n",
      "metadata": {}
    },
    {
      "cell_type": "code",
      "source": "# potential code before try catch\n\ntry:\n    # code to try to execute\nexcept ZeroDivisionError:\n    # code to execute if there is a ZeroDivisionError\nexcept NameError:\n    # code to execute if there is a NameError\nexcept:\n    # code to execute if ther is any exception\n    \n# code that will execute if there is no exception or a one that we are handling",
      "metadata": {},
      "execution_count": null,
      "outputs": []
    },
    {
      "cell_type": "markdown",
      "source": "### Try Except Specific Example\n",
      "metadata": {}
    },
    {
      "cell_type": "markdown",
      "source": "This is the same example as above, but now we will add differentiated messages depending on the exception, letting the user know what is wrong with the input.\n",
      "metadata": {}
    },
    {
      "cell_type": "code",
      "source": "a = 1\n\ntry:\n    b = int(input(\"Please enter a number to divide a\"))\n    a = a/b\n    print(\"Success a=\",a)\nexcept ZeroDivisionError:\n    print(\"The number you provided cant divide 1 because it is 0\")\nexcept ValueError:\n    print(\"You did not provide a number\")\nexcept:\n    print(\"Something went wrong\")\n        \n",
      "metadata": {},
      "execution_count": null,
      "outputs": []
    },
    {
      "cell_type": "markdown",
      "source": "### Try Except Else and Finally\n",
      "metadata": {}
    },
    {
      "cell_type": "markdown",
      "source": "<code>else</code> allows one to check if there was no exception when executing the try block. This is useful when we want to execute something only if there were no errors.\n",
      "metadata": {}
    },
    {
      "cell_type": "markdown",
      "source": "<b>do not run, just to illustrate</b>\n",
      "metadata": {}
    },
    {
      "cell_type": "code",
      "source": "# potential code before try catch\n\ntry:\n    # code to try to execute\nexcept ZeroDivisionError:\n    # code to execute if there is a ZeroDivisionError\nexcept NameError:\n    # code to execute if there is a NameError\nexcept:\n    # code to execute if ther is any exception\nelse:\n    # code to execute if there is no exception\n    \n# code that will execute if there is no exception or a one that we are handling",
      "metadata": {},
      "execution_count": null,
      "outputs": []
    },
    {
      "cell_type": "markdown",
      "source": "<code>finally</code> allows us to always execute something even if there is an exception or not. This is usually used to signify the end of the try except.\n",
      "metadata": {}
    },
    {
      "cell_type": "code",
      "source": "# potential code before try catch\n\ntry:\n    # code to try to execute\nexcept ZeroDivisionError:\n    # code to execute if there is a ZeroDivisionError\nexcept NameError:\n    # code to execute if there is a NameError\nexcept:\n    # code to execute if ther is any exception\nelse:\n    # code to execute if there is no exception\nfinally:\n    # code to execute at the end of the try except no matter what\n    \n# code that will execute if there is no exception or a one that we are handling",
      "metadata": {},
      "execution_count": null,
      "outputs": []
    },
    {
      "cell_type": "markdown",
      "source": "### Try Except Else and Finally Example\n",
      "metadata": {}
    },
    {
      "cell_type": "markdown",
      "source": "You might have noticed that even if there is an error the value of <code>a</code> is always printed. Let's use the <code>else</code> and print the value of <code>a</code> only if there is no error.\n",
      "metadata": {}
    },
    {
      "cell_type": "code",
      "source": "a = 1\n\ntry:\n    b = int(input(\"Please enter a number to divide a\"))\n    a = a/b\nexcept ZeroDivisionError:\n    print(\"The number you provided cant divide 1 because it is 0\")\nexcept ValueError:\n    print(\"You did not provide a number\")\nexcept:\n    print(\"Something went wrong\")\nelse:\n    print(\"success a=\",a)",
      "metadata": {},
      "execution_count": null,
      "outputs": []
    },
    {
      "cell_type": "markdown",
      "source": "Now lets let the user know that we are done processing their answer. Using the <code>finally</code>, let's add a print.\n",
      "metadata": {}
    },
    {
      "cell_type": "code",
      "source": "a = 1\n\ntry:\n    b = int(input(\"Please enter a number to divide a\"))\n    a = a/b\nexcept ZeroDivisionError:\n    print(\"The number you provided cant divide 1 because it is 0\")\nexcept ValueError:\n    print(\"You did not provide a number\")\nexcept:\n    print(\"Something went wrong\")\nelse:\n    print(\"success a=\",a)\nfinally:\n    print(\"Processing Complete\")",
      "metadata": {},
      "execution_count": null,
      "outputs": []
    },
    {
      "cell_type": "markdown",
      "source": "## Authors\n",
      "metadata": {}
    },
    {
      "cell_type": "markdown",
      "source": "<a href=\"https://www.linkedin.com/in/joseph-s-50398b136/?utm_medium=Exinfluencer&utm_source=Exinfluencer&utm_content=000026UJ&utm_term=10006555&utm_id=NA-SkillsNetwork-Channel-SkillsNetworkCoursesIBMDeveloperSkillsNetworkPY0101ENSkillsNetwork19487395-2021-01-01\" target=\"_blank\">Joseph Santarcangelo</a>\n",
      "metadata": {}
    },
    {
      "cell_type": "markdown",
      "source": "## Change Log\n\n| Date (YYYY-MM-DD) | Version | Changed By | Change Description           |\n| ----------------- | ------- | ---------- | ---------------------------- |\n| 2020-09-02        | 2.0     | Simran     | Template updates to the file |\n|                   |         |            |                              |\n|                   |         |            |                              |\n\n## <h3 align=\"center\"> © IBM Corporation 2020. All rights reserved. <h3/>\n",
      "metadata": {}
    }
  ]
}